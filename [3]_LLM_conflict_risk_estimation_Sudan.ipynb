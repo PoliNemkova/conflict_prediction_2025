{
  "nbformat": 4,
  "nbformat_minor": 0,
  "metadata": {
    "colab": {
      "provenance": [],
      "include_colab_link": true
    },
    "kernelspec": {
      "name": "python3",
      "display_name": "Python 3"
    },
    "language_info": {
      "name": "python"
    }
  },
  "cells": [
    {
      "cell_type": "markdown",
      "metadata": {
        "id": "view-in-github",
        "colab_type": "text"
      },
      "source": [
        "<a href=\"https://colab.research.google.com/github/PoliNemkova/conflict_prediction_2025/blob/main/%5B3%5D_LLM_conflict_risk_estimation_Sudan.ipynb\" target=\"_parent\"><img src=\"https://colab.research.google.com/assets/colab-badge.svg\" alt=\"Open In Colab\"/></a>"
      ]
    },
    {
      "cell_type": "code",
      "execution_count": null,
      "metadata": {
        "id": "Py6rug_Wi6r7"
      },
      "outputs": [],
      "source": [
        "!pip install openai\n",
        "!pip uninstall openai -y\n",
        "!pip install ipython-autotime\n",
        "!pip install openai==0.27.0"
      ]
    },
    {
      "cell_type": "code",
      "source": [
        "from google.colab import drive\n",
        "import pandas as pd\n",
        "%load_ext autotime\n",
        "drive.mount('/content/gdrive')"
      ],
      "metadata": {
        "colab": {
          "base_uri": "https://localhost:8080/"
        },
        "id": "aSsFouHylhjj",
        "outputId": "4905a4b7-302b-4197-d0b6-49df780dfa3b"
      },
      "execution_count": null,
      "outputs": [
        {
          "output_type": "stream",
          "name": "stdout",
          "text": [
            "Mounted at /content/gdrive\n",
            "time: 16.8 s (started: 2024-11-18 21:59:04 +00:00)\n"
          ]
        }
      ]
    },
    {
      "cell_type": "code",
      "source": [
        "data = pd.read_csv('/content/gdrive/MyDrive/CONFLICT PREDICTION/Fall 2024/biweekly_Sudan_2023_FINAL.csv')\n",
        "data['shifted_fatalities'] = data['sum(ACLED_Fatalities)'].shift(-1)"
      ],
      "metadata": {
        "colab": {
          "base_uri": "https://localhost:8080/"
        },
        "id": "ASteXJE9l2Cp",
        "outputId": "a71a64c0-b4ff-483f-a00d-e030a076b789"
      },
      "execution_count": null,
      "outputs": [
        {
          "output_type": "stream",
          "name": "stdout",
          "text": [
            "time: 638 ms (started: 2024-11-18 21:59:29 +00:00)\n"
          ]
        }
      ]
    },
    {
      "cell_type": "code",
      "source": [
        "data.columns"
      ],
      "metadata": {
        "colab": {
          "base_uri": "https://localhost:8080/"
        },
        "id": "UI0TrDTpr2uK",
        "outputId": "c573bd9c-07f1-4eab-ce20-a49c87e3479a"
      },
      "execution_count": null,
      "outputs": [
        {
          "output_type": "execute_result",
          "data": {
            "text/plain": [
              "Index(['Unnamed: 0', 'timeslot', 'goldsteinscale', 'goldstein_min_max',\n",
              "       'avgtone', 'events_density', 'unique_articles', 'nummentions',\n",
              "       'numsources', 'numarticles', 'cosine_similarity_positive',\n",
              "       'cosine_similarity_negative', 'avg_embeddings', 'topic', 'topic_1',\n",
              "       'dominance_score_1', 'topic_2', 'dominance_score_2', 'topic_3',\n",
              "       'dominance_score_3', 'sentiment', 'sentiment_std', 'strings',\n",
              "       'summaries', 'keywords', 'STARTDATE', 'ENDDATE',\n",
              "       'sum(ACLED_Fatalities)', 'importance', 'backlogged_importance',\n",
              "       'shifted_fatalities'],\n",
              "      dtype='object')"
            ]
          },
          "metadata": {},
          "execution_count": 49
        },
        {
          "output_type": "stream",
          "name": "stdout",
          "text": [
            "time: 3.37 ms (started: 2024-11-14 20:21:15 +00:00)\n"
          ]
        }
      ]
    },
    {
      "cell_type": "markdown",
      "source": [
        "### GPT-4"
      ],
      "metadata": {
        "id": "Oh-sOKIMScX_"
      }
    },
    {
      "cell_type": "code",
      "source": [
        "import openai\n",
        "import pandas as pd\n",
        "from sklearn.metrics import accuracy_score, precision_score, recall_score, f1_score\n",
        "\n",
        "# Set up your OpenAI API key\n",
        "openai.api_key = ''\n",
        "\n",
        "# Define the function to get GPT-4 responses\n",
        "def label_with_chatgpt(prompt, data):\n",
        "    responses = []\n",
        "    for _, row in data.iterrows():\n",
        "        # Format the prompt with row-specific data\n",
        "        full_prompt = prompt.format(\n",
        "            country='Sudan',\n",
        "            summarized_articles=row['summaries'],\n",
        "            sentiment=row['sentiment'],\n",
        "            sentiment_std=row['sentiment_std'],\n",
        "            avgtone=row['avgtone'],\n",
        "            cosine_similarity_positive=row['cosine_similarity_positive'],\n",
        "            cosine_similarity_negative=row['cosine_similarity_negative'],\n",
        "            goldsteinscale=row['goldsteinscale'],\n",
        "            goldstein_min_max=row['goldstein_min_max'],\n",
        "            unique_articles=row['unique_articles'],\n",
        "            nummentions=row['nummentions'],\n",
        "            numsources=row['numsources'],\n",
        "            events_density=row['events_density'],\n",
        "            topic_1=row['topic_1'],\n",
        "            topic_2=row['topic_2'],\n",
        "            topic_3=row['topic_3'],\n",
        "            dominance_score_1=row['dominance_score_1'],\n",
        "            dominance_score_2=row['dominance_score_2'],\n",
        "            dominance_score_3=row['dominance_score_3'],\n",
        "            avg_embeddings=row['avg_embeddings'],\n",
        "            summaries=row['summaries'],\n",
        "            keywords=row['keywords']\n",
        "        )\n",
        "\n",
        "        # Get response from GPT-4\n",
        "        try:\n",
        "            response = openai.ChatCompletion.create(\n",
        "                model=\"gpt-4-turbo\",\n",
        "                messages=[{\"role\": \"user\", \"content\": full_prompt}],\n",
        "                max_tokens=50,\n",
        "                temperature=0.5\n",
        "            )\n",
        "            label = response['choices'][0]['message']['content'].strip()\n",
        "            responses.append(label)\n",
        "        except Exception as e:\n",
        "            print(f\"Error getting response: {e}\")\n",
        "            responses.append(\"Error\")\n",
        "\n",
        "    return responses\n",
        "\n",
        "# Define your prompt template\n",
        "prompt_template = \"\"\"\n",
        "Please review the list of features from a 2-week timeline in {country} based on regional news articles.\n",
        "\n",
        "Recent bi-weekly summary for {country}:\n",
        "\n",
        "1. Summarized Articles: \"{summarized_articles}\"\n",
        "\n",
        "2. Sentiment Score: {sentiment}\n",
        "   - Sentiment Score Standard Deviation: {sentiment_std}\n",
        "   - Average Tone: {avgtone}\n",
        "\n",
        "3. Cosine Similarity:\n",
        "   - To Conflict Set: {cosine_similarity_positive}\n",
        "   - To Non-Conflict Set: {cosine_similarity_negative}\n",
        "\n",
        "4. Goldstein Score: {goldsteinscale}\n",
        "   - Min/Max Goldstein: [{goldstein_min_max}]\n",
        "\n",
        "5. Total Articles: {unique_articles}\n",
        "   - Total Mentions of event: {nummentions}\n",
        "   - Total Sources: {numsources}\n",
        "   - Event Density: {events_density}\n",
        "\n",
        "6. Top Topics:\n",
        "   - Topic 1: \"{topic_1}\" ({dominance_score_1})\n",
        "   - Topic 2: \"{topic_2}\" ({dominance_score_2})\n",
        "   - Topic 3: \"{topic_3}\" ({dominance_score_3})\n",
        "\n",
        "7. Articles:\n",
        "   - Summaries: {summaries}\n",
        "   - Average Embedding: {avg_embeddings}\n",
        "\n",
        "8. Keywords: {keywords}\n",
        "\n",
        "Question:\n",
        "Based on the above features, assess the likelihood of conflict escalation in {country} within the next 14 days. Provide a likelihood score (0 to 1) and a brief explanation.\n",
        "\"\"\"\n",
        "\n",
        "# Get labels using GPT-4\n",
        "data = data\n",
        "labels_eng_prompt = label_with_chatgpt(prompt_template, data)\n",
        "\n",
        "# Convert the labels into a DataFrame\n",
        "labels_df = pd.DataFrame(labels_eng_prompt, columns=[\"GPT_Label\"])\n",
        "\n",
        "# Save results (if needed)\n",
        "labels_df.to_csv('gpt_labels.csv', index=False)\n",
        "\n",
        "\n",
        "labels_df"
      ],
      "metadata": {
        "colab": {
          "base_uri": "https://localhost:8080/",
          "height": 683
        },
        "id": "h5ivHD9gLJqQ",
        "outputId": "1b4c5a39-1e3a-46f1-d322-9c5215379d9f"
      },
      "execution_count": null,
      "outputs": [
        {
          "output_type": "execute_result",
          "data": {
            "text/plain": [
              "                                            GPT_Label\n",
              "0   **Likelihood Score: 0.7**\\n\\n**Explanation:**\\...\n",
              "1   Likelihood Score: 0.65\\n\\nExplanation:\\nThe li...\n",
              "2   **Likelihood Score: 0.65**\\n\\n**Explanation:**...\n",
              "3   Likelihood Score: 0.65\\n\\nExplanation:\\nThe as...\n",
              "4   **Likelihood Score for Conflict Escalation in ...\n",
              "5   **Likelihood of Conflict Escalation in Sudan w...\n",
              "6   Based on the provided features, the likelihood...\n",
              "7   **Likelihood Score of Conflict Escalation in S...\n",
              "8   **Likelihood Score of Conflict Escalation in S...\n",
              "9   **Likelihood Score of Conflict Escalation in S...\n",
              "10  **Likelihood Score of Conflict Escalation in S...\n",
              "11  **Likelihood Score of Conflict Escalation in S...\n",
              "12  **Likelihood Score for Conflict Escalation in ...\n",
              "13  Based on the provided features from the 2-week...\n",
              "14  **Likelihood Score of Conflict Escalation in S...\n",
              "15  **Likelihood Score of Conflict Escalation in S...\n",
              "16  **Likelihood Score of Conflict Escalation in S...\n",
              "17  **Likelihood Score of Conflict Escalation in S...\n",
              "18  **Likelihood Score: 0.7**\\n\\n**Explanation:**\\...\n",
              "19  Likelihood Score: 0.75\\n\\nExplanation:\\nThe as...\n",
              "20  Based on the analysis of the provided features...\n",
              "21  **Likelihood Score of Conflict Escalation in S...\n",
              "22  Based on the provided data and analysis of rec...\n",
              "23  **Likelihood Score: 0.75**\\n\\n**Explanation:**...\n",
              "24  Based on the provided features, the likelihood..."
            ],
            "text/html": [
              "\n",
              "  <div id=\"df-e488e814-c51c-4469-b2c6-c82c12249df6\" class=\"colab-df-container\">\n",
              "    <div>\n",
              "<style scoped>\n",
              "    .dataframe tbody tr th:only-of-type {\n",
              "        vertical-align: middle;\n",
              "    }\n",
              "\n",
              "    .dataframe tbody tr th {\n",
              "        vertical-align: top;\n",
              "    }\n",
              "\n",
              "    .dataframe thead th {\n",
              "        text-align: right;\n",
              "    }\n",
              "</style>\n",
              "<table border=\"1\" class=\"dataframe\">\n",
              "  <thead>\n",
              "    <tr style=\"text-align: right;\">\n",
              "      <th></th>\n",
              "      <th>GPT_Label</th>\n",
              "    </tr>\n",
              "  </thead>\n",
              "  <tbody>\n",
              "    <tr>\n",
              "      <th>0</th>\n",
              "      <td>**Likelihood Score: 0.7**\\n\\n**Explanation:**\\...</td>\n",
              "    </tr>\n",
              "    <tr>\n",
              "      <th>1</th>\n",
              "      <td>Likelihood Score: 0.65\\n\\nExplanation:\\nThe li...</td>\n",
              "    </tr>\n",
              "    <tr>\n",
              "      <th>2</th>\n",
              "      <td>**Likelihood Score: 0.65**\\n\\n**Explanation:**...</td>\n",
              "    </tr>\n",
              "    <tr>\n",
              "      <th>3</th>\n",
              "      <td>Likelihood Score: 0.65\\n\\nExplanation:\\nThe as...</td>\n",
              "    </tr>\n",
              "    <tr>\n",
              "      <th>4</th>\n",
              "      <td>**Likelihood Score for Conflict Escalation in ...</td>\n",
              "    </tr>\n",
              "    <tr>\n",
              "      <th>5</th>\n",
              "      <td>**Likelihood of Conflict Escalation in Sudan w...</td>\n",
              "    </tr>\n",
              "    <tr>\n",
              "      <th>6</th>\n",
              "      <td>Based on the provided features, the likelihood...</td>\n",
              "    </tr>\n",
              "    <tr>\n",
              "      <th>7</th>\n",
              "      <td>**Likelihood Score of Conflict Escalation in S...</td>\n",
              "    </tr>\n",
              "    <tr>\n",
              "      <th>8</th>\n",
              "      <td>**Likelihood Score of Conflict Escalation in S...</td>\n",
              "    </tr>\n",
              "    <tr>\n",
              "      <th>9</th>\n",
              "      <td>**Likelihood Score of Conflict Escalation in S...</td>\n",
              "    </tr>\n",
              "    <tr>\n",
              "      <th>10</th>\n",
              "      <td>**Likelihood Score of Conflict Escalation in S...</td>\n",
              "    </tr>\n",
              "    <tr>\n",
              "      <th>11</th>\n",
              "      <td>**Likelihood Score of Conflict Escalation in S...</td>\n",
              "    </tr>\n",
              "    <tr>\n",
              "      <th>12</th>\n",
              "      <td>**Likelihood Score for Conflict Escalation in ...</td>\n",
              "    </tr>\n",
              "    <tr>\n",
              "      <th>13</th>\n",
              "      <td>Based on the provided features from the 2-week...</td>\n",
              "    </tr>\n",
              "    <tr>\n",
              "      <th>14</th>\n",
              "      <td>**Likelihood Score of Conflict Escalation in S...</td>\n",
              "    </tr>\n",
              "    <tr>\n",
              "      <th>15</th>\n",
              "      <td>**Likelihood Score of Conflict Escalation in S...</td>\n",
              "    </tr>\n",
              "    <tr>\n",
              "      <th>16</th>\n",
              "      <td>**Likelihood Score of Conflict Escalation in S...</td>\n",
              "    </tr>\n",
              "    <tr>\n",
              "      <th>17</th>\n",
              "      <td>**Likelihood Score of Conflict Escalation in S...</td>\n",
              "    </tr>\n",
              "    <tr>\n",
              "      <th>18</th>\n",
              "      <td>**Likelihood Score: 0.7**\\n\\n**Explanation:**\\...</td>\n",
              "    </tr>\n",
              "    <tr>\n",
              "      <th>19</th>\n",
              "      <td>Likelihood Score: 0.75\\n\\nExplanation:\\nThe as...</td>\n",
              "    </tr>\n",
              "    <tr>\n",
              "      <th>20</th>\n",
              "      <td>Based on the analysis of the provided features...</td>\n",
              "    </tr>\n",
              "    <tr>\n",
              "      <th>21</th>\n",
              "      <td>**Likelihood Score of Conflict Escalation in S...</td>\n",
              "    </tr>\n",
              "    <tr>\n",
              "      <th>22</th>\n",
              "      <td>Based on the provided data and analysis of rec...</td>\n",
              "    </tr>\n",
              "    <tr>\n",
              "      <th>23</th>\n",
              "      <td>**Likelihood Score: 0.75**\\n\\n**Explanation:**...</td>\n",
              "    </tr>\n",
              "    <tr>\n",
              "      <th>24</th>\n",
              "      <td>Based on the provided features, the likelihood...</td>\n",
              "    </tr>\n",
              "  </tbody>\n",
              "</table>\n",
              "</div>\n",
              "    <div class=\"colab-df-buttons\">\n",
              "\n",
              "  <div class=\"colab-df-container\">\n",
              "    <button class=\"colab-df-convert\" onclick=\"convertToInteractive('df-e488e814-c51c-4469-b2c6-c82c12249df6')\"\n",
              "            title=\"Convert this dataframe to an interactive table.\"\n",
              "            style=\"display:none;\">\n",
              "\n",
              "  <svg xmlns=\"http://www.w3.org/2000/svg\" height=\"24px\" viewBox=\"0 -960 960 960\">\n",
              "    <path d=\"M120-120v-720h720v720H120Zm60-500h600v-160H180v160Zm220 220h160v-160H400v160Zm0 220h160v-160H400v160ZM180-400h160v-160H180v160Zm440 0h160v-160H620v160ZM180-180h160v-160H180v160Zm440 0h160v-160H620v160Z\"/>\n",
              "  </svg>\n",
              "    </button>\n",
              "\n",
              "  <style>\n",
              "    .colab-df-container {\n",
              "      display:flex;\n",
              "      gap: 12px;\n",
              "    }\n",
              "\n",
              "    .colab-df-convert {\n",
              "      background-color: #E8F0FE;\n",
              "      border: none;\n",
              "      border-radius: 50%;\n",
              "      cursor: pointer;\n",
              "      display: none;\n",
              "      fill: #1967D2;\n",
              "      height: 32px;\n",
              "      padding: 0 0 0 0;\n",
              "      width: 32px;\n",
              "    }\n",
              "\n",
              "    .colab-df-convert:hover {\n",
              "      background-color: #E2EBFA;\n",
              "      box-shadow: 0px 1px 2px rgba(60, 64, 67, 0.3), 0px 1px 3px 1px rgba(60, 64, 67, 0.15);\n",
              "      fill: #174EA6;\n",
              "    }\n",
              "\n",
              "    .colab-df-buttons div {\n",
              "      margin-bottom: 4px;\n",
              "    }\n",
              "\n",
              "    [theme=dark] .colab-df-convert {\n",
              "      background-color: #3B4455;\n",
              "      fill: #D2E3FC;\n",
              "    }\n",
              "\n",
              "    [theme=dark] .colab-df-convert:hover {\n",
              "      background-color: #434B5C;\n",
              "      box-shadow: 0px 1px 3px 1px rgba(0, 0, 0, 0.15);\n",
              "      filter: drop-shadow(0px 1px 2px rgba(0, 0, 0, 0.3));\n",
              "      fill: #FFFFFF;\n",
              "    }\n",
              "  </style>\n",
              "\n",
              "    <script>\n",
              "      const buttonEl =\n",
              "        document.querySelector('#df-e488e814-c51c-4469-b2c6-c82c12249df6 button.colab-df-convert');\n",
              "      buttonEl.style.display =\n",
              "        google.colab.kernel.accessAllowed ? 'block' : 'none';\n",
              "\n",
              "      async function convertToInteractive(key) {\n",
              "        const element = document.querySelector('#df-e488e814-c51c-4469-b2c6-c82c12249df6');\n",
              "        const dataTable =\n",
              "          await google.colab.kernel.invokeFunction('convertToInteractive',\n",
              "                                                    [key], {});\n",
              "        if (!dataTable) return;\n",
              "\n",
              "        const docLinkHtml = 'Like what you see? Visit the ' +\n",
              "          '<a target=\"_blank\" href=https://colab.research.google.com/notebooks/data_table.ipynb>data table notebook</a>'\n",
              "          + ' to learn more about interactive tables.';\n",
              "        element.innerHTML = '';\n",
              "        dataTable['output_type'] = 'display_data';\n",
              "        await google.colab.output.renderOutput(dataTable, element);\n",
              "        const docLink = document.createElement('div');\n",
              "        docLink.innerHTML = docLinkHtml;\n",
              "        element.appendChild(docLink);\n",
              "      }\n",
              "    </script>\n",
              "  </div>\n",
              "\n",
              "\n",
              "<div id=\"df-bfe97d9a-bce1-48ac-93ca-19783c5933b1\">\n",
              "  <button class=\"colab-df-quickchart\" onclick=\"quickchart('df-bfe97d9a-bce1-48ac-93ca-19783c5933b1')\"\n",
              "            title=\"Suggest charts\"\n",
              "            style=\"display:none;\">\n",
              "\n",
              "<svg xmlns=\"http://www.w3.org/2000/svg\" height=\"24px\"viewBox=\"0 0 24 24\"\n",
              "     width=\"24px\">\n",
              "    <g>\n",
              "        <path d=\"M19 3H5c-1.1 0-2 .9-2 2v14c0 1.1.9 2 2 2h14c1.1 0 2-.9 2-2V5c0-1.1-.9-2-2-2zM9 17H7v-7h2v7zm4 0h-2V7h2v10zm4 0h-2v-4h2v4z\"/>\n",
              "    </g>\n",
              "</svg>\n",
              "  </button>\n",
              "\n",
              "<style>\n",
              "  .colab-df-quickchart {\n",
              "      --bg-color: #E8F0FE;\n",
              "      --fill-color: #1967D2;\n",
              "      --hover-bg-color: #E2EBFA;\n",
              "      --hover-fill-color: #174EA6;\n",
              "      --disabled-fill-color: #AAA;\n",
              "      --disabled-bg-color: #DDD;\n",
              "  }\n",
              "\n",
              "  [theme=dark] .colab-df-quickchart {\n",
              "      --bg-color: #3B4455;\n",
              "      --fill-color: #D2E3FC;\n",
              "      --hover-bg-color: #434B5C;\n",
              "      --hover-fill-color: #FFFFFF;\n",
              "      --disabled-bg-color: #3B4455;\n",
              "      --disabled-fill-color: #666;\n",
              "  }\n",
              "\n",
              "  .colab-df-quickchart {\n",
              "    background-color: var(--bg-color);\n",
              "    border: none;\n",
              "    border-radius: 50%;\n",
              "    cursor: pointer;\n",
              "    display: none;\n",
              "    fill: var(--fill-color);\n",
              "    height: 32px;\n",
              "    padding: 0;\n",
              "    width: 32px;\n",
              "  }\n",
              "\n",
              "  .colab-df-quickchart:hover {\n",
              "    background-color: var(--hover-bg-color);\n",
              "    box-shadow: 0 1px 2px rgba(60, 64, 67, 0.3), 0 1px 3px 1px rgba(60, 64, 67, 0.15);\n",
              "    fill: var(--button-hover-fill-color);\n",
              "  }\n",
              "\n",
              "  .colab-df-quickchart-complete:disabled,\n",
              "  .colab-df-quickchart-complete:disabled:hover {\n",
              "    background-color: var(--disabled-bg-color);\n",
              "    fill: var(--disabled-fill-color);\n",
              "    box-shadow: none;\n",
              "  }\n",
              "\n",
              "  .colab-df-spinner {\n",
              "    border: 2px solid var(--fill-color);\n",
              "    border-color: transparent;\n",
              "    border-bottom-color: var(--fill-color);\n",
              "    animation:\n",
              "      spin 1s steps(1) infinite;\n",
              "  }\n",
              "\n",
              "  @keyframes spin {\n",
              "    0% {\n",
              "      border-color: transparent;\n",
              "      border-bottom-color: var(--fill-color);\n",
              "      border-left-color: var(--fill-color);\n",
              "    }\n",
              "    20% {\n",
              "      border-color: transparent;\n",
              "      border-left-color: var(--fill-color);\n",
              "      border-top-color: var(--fill-color);\n",
              "    }\n",
              "    30% {\n",
              "      border-color: transparent;\n",
              "      border-left-color: var(--fill-color);\n",
              "      border-top-color: var(--fill-color);\n",
              "      border-right-color: var(--fill-color);\n",
              "    }\n",
              "    40% {\n",
              "      border-color: transparent;\n",
              "      border-right-color: var(--fill-color);\n",
              "      border-top-color: var(--fill-color);\n",
              "    }\n",
              "    60% {\n",
              "      border-color: transparent;\n",
              "      border-right-color: var(--fill-color);\n",
              "    }\n",
              "    80% {\n",
              "      border-color: transparent;\n",
              "      border-right-color: var(--fill-color);\n",
              "      border-bottom-color: var(--fill-color);\n",
              "    }\n",
              "    90% {\n",
              "      border-color: transparent;\n",
              "      border-bottom-color: var(--fill-color);\n",
              "    }\n",
              "  }\n",
              "</style>\n",
              "\n",
              "  <script>\n",
              "    async function quickchart(key) {\n",
              "      const quickchartButtonEl =\n",
              "        document.querySelector('#' + key + ' button');\n",
              "      quickchartButtonEl.disabled = true;  // To prevent multiple clicks.\n",
              "      quickchartButtonEl.classList.add('colab-df-spinner');\n",
              "      try {\n",
              "        const charts = await google.colab.kernel.invokeFunction(\n",
              "            'suggestCharts', [key], {});\n",
              "      } catch (error) {\n",
              "        console.error('Error during call to suggestCharts:', error);\n",
              "      }\n",
              "      quickchartButtonEl.classList.remove('colab-df-spinner');\n",
              "      quickchartButtonEl.classList.add('colab-df-quickchart-complete');\n",
              "    }\n",
              "    (() => {\n",
              "      let quickchartButtonEl =\n",
              "        document.querySelector('#df-bfe97d9a-bce1-48ac-93ca-19783c5933b1 button');\n",
              "      quickchartButtonEl.style.display =\n",
              "        google.colab.kernel.accessAllowed ? 'block' : 'none';\n",
              "    })();\n",
              "  </script>\n",
              "</div>\n",
              "\n",
              "  <div id=\"id_e0bf337a-d177-4495-bf7e-bdd78b6a4f70\">\n",
              "    <style>\n",
              "      .colab-df-generate {\n",
              "        background-color: #E8F0FE;\n",
              "        border: none;\n",
              "        border-radius: 50%;\n",
              "        cursor: pointer;\n",
              "        display: none;\n",
              "        fill: #1967D2;\n",
              "        height: 32px;\n",
              "        padding: 0 0 0 0;\n",
              "        width: 32px;\n",
              "      }\n",
              "\n",
              "      .colab-df-generate:hover {\n",
              "        background-color: #E2EBFA;\n",
              "        box-shadow: 0px 1px 2px rgba(60, 64, 67, 0.3), 0px 1px 3px 1px rgba(60, 64, 67, 0.15);\n",
              "        fill: #174EA6;\n",
              "      }\n",
              "\n",
              "      [theme=dark] .colab-df-generate {\n",
              "        background-color: #3B4455;\n",
              "        fill: #D2E3FC;\n",
              "      }\n",
              "\n",
              "      [theme=dark] .colab-df-generate:hover {\n",
              "        background-color: #434B5C;\n",
              "        box-shadow: 0px 1px 3px 1px rgba(0, 0, 0, 0.15);\n",
              "        filter: drop-shadow(0px 1px 2px rgba(0, 0, 0, 0.3));\n",
              "        fill: #FFFFFF;\n",
              "      }\n",
              "    </style>\n",
              "    <button class=\"colab-df-generate\" onclick=\"generateWithVariable('labels_df')\"\n",
              "            title=\"Generate code using this dataframe.\"\n",
              "            style=\"display:none;\">\n",
              "\n",
              "  <svg xmlns=\"http://www.w3.org/2000/svg\" height=\"24px\"viewBox=\"0 0 24 24\"\n",
              "       width=\"24px\">\n",
              "    <path d=\"M7,19H8.4L18.45,9,17,7.55,7,17.6ZM5,21V16.75L18.45,3.32a2,2,0,0,1,2.83,0l1.4,1.43a1.91,1.91,0,0,1,.58,1.4,1.91,1.91,0,0,1-.58,1.4L9.25,21ZM18.45,9,17,7.55Zm-12,3A5.31,5.31,0,0,0,4.9,8.1,5.31,5.31,0,0,0,1,6.5,5.31,5.31,0,0,0,4.9,4.9,5.31,5.31,0,0,0,6.5,1,5.31,5.31,0,0,0,8.1,4.9,5.31,5.31,0,0,0,12,6.5,5.46,5.46,0,0,0,6.5,12Z\"/>\n",
              "  </svg>\n",
              "    </button>\n",
              "    <script>\n",
              "      (() => {\n",
              "      const buttonEl =\n",
              "        document.querySelector('#id_e0bf337a-d177-4495-bf7e-bdd78b6a4f70 button.colab-df-generate');\n",
              "      buttonEl.style.display =\n",
              "        google.colab.kernel.accessAllowed ? 'block' : 'none';\n",
              "\n",
              "      buttonEl.onclick = () => {\n",
              "        google.colab.notebook.generateWithVariable('labels_df');\n",
              "      }\n",
              "      })();\n",
              "    </script>\n",
              "  </div>\n",
              "\n",
              "    </div>\n",
              "  </div>\n"
            ],
            "application/vnd.google.colaboratory.intrinsic+json": {
              "type": "dataframe",
              "variable_name": "labels_df",
              "summary": "{\n  \"name\": \"labels_df\",\n  \"rows\": 25,\n  \"fields\": [\n    {\n      \"column\": \"GPT_Label\",\n      \"properties\": {\n        \"dtype\": \"string\",\n        \"num_unique_values\": 25,\n        \"samples\": [\n          \"**Likelihood Score of Conflict Escalation in Sudan within the Next 14 Days: 0.85**\\n\\n**Explanation:**\\n\\n1. **High Conflict Engagement**: The summary indicates ongoing military engagements, including artillery fire, airstrikes, and daily military\",\n          \"**Likelihood Score of Conflict Escalation in Sudan: 0.65**\\n\\n**Explanation:**\\n\\n1. **Cosine Similarity to Conflict Set:** The cosine similarity score to the conflict set is 0.8193009829118997\",\n          \"**Likelihood Score: 0.7**\\n\\n**Explanation:**\\n\\nThe likelihood of conflict escalation in Sudan in the next 14 days is assessed to be moderately high, based on the following analysis of the provided data:\\n\\n1. **Sentiment Analysis\"\n        ],\n        \"semantic_type\": \"\",\n        \"description\": \"\"\n      }\n    }\n  ]\n}"
            }
          },
          "metadata": {},
          "execution_count": 18
        },
        {
          "output_type": "stream",
          "name": "stdout",
          "text": [
            "time: 1min 14s (started: 2024-11-14 19:37:19 +00:00)\n"
          ]
        }
      ]
    },
    {
      "cell_type": "code",
      "source": [
        "labels_df.to_csv('/content/gdrive/MyDrive/CONFLICT PREDICTION/Fall 2024/Experiments Results/gpt_labels.csv', index=False)"
      ],
      "metadata": {
        "colab": {
          "base_uri": "https://localhost:8080/"
        },
        "id": "2biofT-3MEMq",
        "outputId": "b563b95e-8dcd-4150-b95d-5e6861be3cc4"
      },
      "execution_count": null,
      "outputs": [
        {
          "output_type": "stream",
          "name": "stdout",
          "text": [
            "time: 17.4 ms (started: 2024-11-14 20:20:34 +00:00)\n"
          ]
        }
      ]
    },
    {
      "cell_type": "code",
      "source": [
        "# hand typed here - need to find a solution to extract this from GPT labels\n",
        "gpt_probabilities = [0.7, 0.65, 0.65, 0.65, 0.7, 0.85, 0.85, 0.75, 0.85, 0.85, 0.75, 0.85, 0.85, 0.8, 0.75, 0.75, 0.65, 0.75, 0.7, 0.75, 0.7, 0.75, 0.75, 0.75, 0.85  ]"
      ],
      "metadata": {
        "colab": {
          "base_uri": "https://localhost:8080/"
        },
        "id": "O2xSLdC3M6AA",
        "outputId": "7b9a0d12-89e8-44a7-a471-8228236b06a4"
      },
      "execution_count": null,
      "outputs": [
        {
          "output_type": "stream",
          "name": "stdout",
          "text": [
            "time: 738 µs (started: 2024-11-18 22:33:01 +00:00)\n"
          ]
        }
      ]
    },
    {
      "cell_type": "code",
      "source": [
        "len(gpt_probabilities)"
      ],
      "metadata": {
        "colab": {
          "base_uri": "https://localhost:8080/"
        },
        "id": "ZiDSeAniM0fP",
        "outputId": "4793fd5c-ba9f-4258-dff8-2c17cddeccd1"
      },
      "execution_count": null,
      "outputs": [
        {
          "output_type": "execute_result",
          "data": {
            "text/plain": [
              "25"
            ]
          },
          "metadata": {},
          "execution_count": 46
        },
        {
          "output_type": "stream",
          "name": "stdout",
          "text": [
            "time: 3.08 ms (started: 2024-11-14 20:20:40 +00:00)\n"
          ]
        }
      ]
    },
    {
      "cell_type": "code",
      "source": [
        "len(data['backlogged_importance'])"
      ],
      "metadata": {
        "colab": {
          "base_uri": "https://localhost:8080/"
        },
        "id": "k_uwECJxM1aB",
        "outputId": "b98e83d5-36c9-4270-a475-4446ba0a487e"
      },
      "execution_count": null,
      "outputs": [
        {
          "output_type": "execute_result",
          "data": {
            "text/plain": [
              "25"
            ]
          },
          "metadata": {},
          "execution_count": 47
        },
        {
          "output_type": "stream",
          "name": "stdout",
          "text": [
            "time: 3.03 ms (started: 2024-11-14 20:20:41 +00:00)\n"
          ]
        }
      ]
    },
    {
      "cell_type": "code",
      "source": [
        "# correlation with fatalities\n",
        "\n",
        "import scipy.stats\n",
        "\n",
        "list1 = gpt_probabilities\n",
        "list2 = data['shifted_fatalities'].fillna(data['shifted_fatalities'].mean()).to_list()\n",
        "\n",
        "# Ensure the two lists have the same length\n",
        "min_length = min(len(list1), len(list2))\n",
        "list1 = list1[:min_length]\n",
        "list2 = list2[:min_length]\n",
        "\n",
        "# Calculate the Pearson correlation coefficient\n",
        "correlation, p_value = scipy.stats.pearsonr(list1, list2)\n",
        "\n",
        "print(f\"Pearson Correlation: {correlation:.3f}\")\n",
        "print(f\"P-value: {p_value:.3f}\")\n"
      ],
      "metadata": {
        "colab": {
          "base_uri": "https://localhost:8080/"
        },
        "id": "B0N9oxVZPNJl",
        "outputId": "d3cac646-768f-43a7-c56d-e45e548254e6"
      },
      "execution_count": null,
      "outputs": [
        {
          "output_type": "stream",
          "name": "stdout",
          "text": [
            "Pearson Correlation: 0.529\n",
            "P-value: 0.009\n",
            "time: 10.7 ms (started: 2024-11-14 20:23:33 +00:00)\n"
          ]
        }
      ]
    },
    {
      "cell_type": "code",
      "source": [
        "# correlation with log value\n",
        "import scipy.stats\n",
        "\n",
        "list1 = gpt_probabilities\n",
        "df = np.log10(data['shifted_fatalities'])\n",
        "list2 = df.fillna(df.mean()).to_list()\n",
        "\n",
        "# Ensure the two lists have the same length\n",
        "min_length = min(len(list1), len(list2))\n",
        "list1 = list1[:min_length]\n",
        "list2 = list2[:min_length]\n",
        "\n",
        "# Calculate the Pearson correlation coefficient\n",
        "correlation, p_value = scipy.stats.pearsonr(list1, list2)\n",
        "\n",
        "print(f\"Pearson Correlation: {correlation:.3f}\")\n",
        "print(f\"P-value: {p_value:.3f}\")"
      ],
      "metadata": {
        "colab": {
          "base_uri": "https://localhost:8080/"
        },
        "id": "5UBwqodtfvD9",
        "outputId": "89d859e7-8299-40fb-d6a8-23c17fc7af33"
      },
      "execution_count": null,
      "outputs": [
        {
          "output_type": "stream",
          "name": "stdout",
          "text": [
            "Pearson Correlation: 0.609\n",
            "P-value: 0.001\n",
            "time: 7.89 ms (started: 2024-11-18 22:58:07 +00:00)\n"
          ]
        }
      ]
    },
    {
      "cell_type": "markdown",
      "source": [
        "### Claude"
      ],
      "metadata": {
        "id": "AO3gZ3JVQ8Dh"
      }
    },
    {
      "cell_type": "code",
      "source": [
        "!pip install anthropic\n",
        "import anthropic\n",
        "import pandas as pd\n",
        "\n",
        "API_KEY = \"\"\n",
        "\n",
        "# Initialize the Anthropic client\n",
        "client = anthropic.Client(api_key=API_KEY)\n",
        "\n",
        "# Define a function to query Claude\n",
        "def query_claude(prompt, max_tokens=300):\n",
        "    try:\n",
        "        response = client.completions.create(\n",
        "            model=\"claude-2\",\n",
        "            prompt=f\"{anthropic.HUMAN_PROMPT} {prompt}{anthropic.AI_PROMPT}\",\n",
        "            max_tokens_to_sample=max_tokens,\n",
        "            temperature=0.7\n",
        "        )\n",
        "        return response.completion.strip()\n",
        "    except Exception as e:\n",
        "        print(f\"Error querying Claude: {e}\")\n",
        "        return \"Error\"\n",
        "\n",
        "# Function to label data using Claude\n",
        "def label_with_claude(prompt, data):\n",
        "    responses = []\n",
        "    for _, row in data.iterrows():\n",
        "        # Format the prompt with row-specific data\n",
        "        full_prompt = prompt.format(\n",
        "            country='Sudan',\n",
        "            summarized_articles=row['summaries'],\n",
        "            sentiment=row['sentiment'],\n",
        "            sentiment_std=row['sentiment_std'],\n",
        "            avgtone=row['avgtone'],\n",
        "            cosine_similarity_positive=row['cosine_similarity_positive'],\n",
        "            cosine_similarity_negative=row['cosine_similarity_negative'],\n",
        "            goldsteinscale=row['goldsteinscale'],\n",
        "            goldstein_min_max=row['goldstein_min_max'],\n",
        "            unique_articles=row['unique_articles'],\n",
        "            nummentions=row['nummentions'],\n",
        "            numsources=row['numsources'],\n",
        "            events_density=row['events_density'],\n",
        "            topic_1=row['topic_1'],\n",
        "            topic_2=row['topic_2'],\n",
        "            topic_3=row['topic_3'],\n",
        "            dominance_score_1=row['dominance_score_1'],\n",
        "            dominance_score_2=row['dominance_score_2'],\n",
        "            dominance_score_3=row['dominance_score_3'],\n",
        "            avg_embeddings=row['avg_embeddings'],\n",
        "            summaries=row['summaries'],\n",
        "            keywords=row['keywords']\n",
        "        )\n",
        "\n",
        "        # Get response from Claude\n",
        "        label = query_claude(full_prompt, max_tokens=50)\n",
        "        responses.append(label)\n",
        "\n",
        "    return responses\n",
        "\n",
        "# Example usage with sample DataFrame\n",
        "if __name__ == \"__main__\":\n",
        "    # Sample data for testing\n",
        "    data = data\n",
        "\n",
        "    # Define your prompt template\n",
        "    prompt_template = \"\"\"\n",
        "Please review the list of features from a 2-week timeline in {country} based on regional news articles.\n",
        "\n",
        "Recent bi-weekly summary for {country}:\n",
        "\n",
        "1. Summarized Articles: \"{summarized_articles}\"\n",
        "\n",
        "2. Sentiment Score: {sentiment}\n",
        "   - Sentiment Score Standard Deviation: {sentiment_std}\n",
        "   - Average Tone: {avgtone}\n",
        "\n",
        "3. Cosine Similarity:\n",
        "   - To Conflict Set: {cosine_similarity_positive}\n",
        "   - To Non-Conflict Set: {cosine_similarity_negative}\n",
        "\n",
        "4. Goldstein Score: {goldsteinscale}\n",
        "   - Min/Max Goldstein: [{goldstein_min_max}]\n",
        "\n",
        "5. Total Articles: {unique_articles}\n",
        "   - Total Mentions of event: {nummentions}\n",
        "   - Total Sources: {numsources}\n",
        "   - Event Density: {events_density}\n",
        "\n",
        "6. Top Topics:\n",
        "   - Topic 1: \"{topic_1}\" ({dominance_score_1})\n",
        "   - Topic 2: \"{topic_2}\" ({dominance_score_2})\n",
        "   - Topic 3: \"{topic_3}\" ({dominance_score_3})\n",
        "\n",
        "7. Articles:\n",
        "   - Summaries: {summaries}\n",
        "   - Average Embedding: {avg_embeddings}\n",
        "\n",
        "8. Keywords: {keywords}\n",
        "\n",
        "Question:\n",
        "Based on the above features, assess the likelihood of conflict escalation in {country} within the next 14 days. Provide a likelihood score (0 to 1) FIRST, and then provide a brief explanation.\n",
        "\"\"\"\n",
        "\n",
        "    # Label the data using Claude\n",
        "    labeled_data = label_with_claude(prompt_template, data)\n",
        "    for i, label in enumerate(labeled_data):\n",
        "        print(f\"Row {i + 1} label: {label}\")\n"
      ],
      "metadata": {
        "id": "1ysTd8KWTX3K",
        "colab": {
          "base_uri": "https://localhost:8080/"
        },
        "outputId": "f5ad93ae-3da3-4342-fb41-f8b416c56512"
      },
      "execution_count": null,
      "outputs": [
        {
          "output_type": "stream",
          "name": "stdout",
          "text": [
            "Requirement already satisfied: anthropic in /usr/local/lib/python3.10/dist-packages (0.39.0)\n",
            "Requirement already satisfied: anyio<5,>=3.5.0 in /usr/local/lib/python3.10/dist-packages (from anthropic) (3.7.1)\n",
            "Requirement already satisfied: distro<2,>=1.7.0 in /usr/local/lib/python3.10/dist-packages (from anthropic) (1.9.0)\n",
            "Requirement already satisfied: httpx<1,>=0.23.0 in /usr/local/lib/python3.10/dist-packages (from anthropic) (0.27.2)\n",
            "Requirement already satisfied: jiter<1,>=0.4.0 in /usr/local/lib/python3.10/dist-packages (from anthropic) (0.7.1)\n",
            "Requirement already satisfied: pydantic<3,>=1.9.0 in /usr/local/lib/python3.10/dist-packages (from anthropic) (2.9.2)\n",
            "Requirement already satisfied: sniffio in /usr/local/lib/python3.10/dist-packages (from anthropic) (1.3.1)\n",
            "Requirement already satisfied: typing-extensions<5,>=4.7 in /usr/local/lib/python3.10/dist-packages (from anthropic) (4.12.2)\n",
            "Requirement already satisfied: idna>=2.8 in /usr/local/lib/python3.10/dist-packages (from anyio<5,>=3.5.0->anthropic) (3.10)\n",
            "Requirement already satisfied: exceptiongroup in /usr/local/lib/python3.10/dist-packages (from anyio<5,>=3.5.0->anthropic) (1.2.2)\n",
            "Requirement already satisfied: certifi in /usr/local/lib/python3.10/dist-packages (from httpx<1,>=0.23.0->anthropic) (2024.8.30)\n",
            "Requirement already satisfied: httpcore==1.* in /usr/local/lib/python3.10/dist-packages (from httpx<1,>=0.23.0->anthropic) (1.0.6)\n",
            "Requirement already satisfied: h11<0.15,>=0.13 in /usr/local/lib/python3.10/dist-packages (from httpcore==1.*->httpx<1,>=0.23.0->anthropic) (0.14.0)\n",
            "Requirement already satisfied: annotated-types>=0.6.0 in /usr/local/lib/python3.10/dist-packages (from pydantic<3,>=1.9.0->anthropic) (0.7.0)\n",
            "Requirement already satisfied: pydantic-core==2.23.4 in /usr/local/lib/python3.10/dist-packages (from pydantic<3,>=1.9.0->anthropic) (2.23.4)\n",
            "Row 1 label: Based on the features summarized, there appears to be a moderate likelihood of conflict escalation in Sudan in the next 14 days.\n",
            "\n",
            "Likelihood score: 0.6\n",
            "\n",
            "In support of escalation, the sentiment score is quite negative (-0.\n",
            "Row 2 label: Based on the features summarized, I would assess the likelihood of conflict escalation in Sudan in the next 14 days as moderate. \n",
            "\n",
            "Likelihood score: 0.6\n",
            "\n",
            "In support of this assessment:\n",
            "- The sentiment score is moderately positive (\n",
            "Row 3 label: Based on the features summarized:\n",
            "\n",
            "Likelihood of conflict escalation in the next 14 days: 0.52\n",
            "\n",
            "In explaining this moderate likelihood score:\n",
            "- The sentiment, tone, and cosine similarity scores do not indicate high risk levels\n",
            "-\n",
            "Row 4 label: Based on the features summarized, there is a moderate likelihood of conflict escalation in Sudan in the next 14 days.\n",
            "\n",
            "Likelihood score: 0.6\n",
            "\n",
            "In explaining my assessment:\n",
            "\n",
            "- The sentiment score is moderately negative (-0.\n",
            "Row 5 label: Based on the features summarized, I would assess the likelihood of conflict escalation in Sudan in the next 14 days as moderately low, with a score of 0.35. \n",
            "\n",
            "The key reasons I assessed the likelihood this way:\n",
            "\n",
            "- The\n",
            "Row 6 label: Based on the features summarized, I would assess the likelihood of conflict escalation in Sudan in the next 14 days as moderately high, around 0.7. \n",
            "\n",
            "The key factors leading me to this assessment are:\n",
            "\n",
            "1) The high number\n",
            "Row 7 label: Based on the features summarized, I would assess the likelihood of conflict escalation in Sudan in the next 14 days as moderately high, around 0.7. \n",
            "\n",
            "The key factors leading me to this assessment are:\n",
            "\n",
            "1) The overall negative\n",
            "Row 8 label: Based on the features summarized, I would assess the likelihood of conflict escalation in Sudan in the next 14 days as moderate.\n",
            "\n",
            "Likelihood score: 0.6\n",
            "\n",
            "In support of this assessment:\n",
            "- The sentiment score is neutral at 0\n",
            "Row 9 label: Based on the features summarized, there is a moderate likelihood of conflict escalation in Sudan in the next 14 days.\n",
            "\n",
            "Likelihood score: 0.6\n",
            "\n",
            "Explanation:\n",
            "The negative sentiment score (-0.25) and Goldstein score (-\n",
            "Row 10 label: Based on the features summarized, there is a high likelihood (0.8) of conflict escalation in Sudan in the next 14 days.\n",
            "\n",
            "Reasons:\n",
            "- The sentiment score is quite negative (-0.36) with a high standar\n",
            "Row 11 label: Based on the features summarized, there seems to be a moderate likelihood of conflict escalation in Sudan in the next 14 days.\n",
            "\n",
            "Likelihood score: 0.6\n",
            "\n",
            "In support of this assessment:\n",
            "- The cosine similarity scores indicate the articles\n",
            "Row 12 label: Based on the features summarized:\n",
            "\n",
            "Likelihood of conflict escalation in the next 14 days: 0.68\n",
            "\n",
            "Brief explanation:\n",
            "The negative Goldstein score, cosine similarity to conflict/non-conflict sets, sentiment scores, and topic\n",
            "Row 13 label: Based on the features summarized, there are several indications of potential escalation of conflict in Sudan:\n",
            "\n",
            "Likelihood score: 0.75\n",
            "\n",
            "In explaining this likelihood assessment:\n",
            "- The sentiment score is fairly neutral at 0.15, though there\n",
            "Row 14 label: Based on the features summarized, there appears to be ongoing conflict and instability in Sudan. Key factors pointing to continued escalation risk:\n",
            "\n",
            "Likelihood score: 0.75\n",
            "\n",
            "Reasons:\n",
            "- Low sentiment score (-0.30) an\n",
            "Row 15 label: Based on the summary and analysis provided, there are some signs of continued conflict, such as clashes between armed forces, disease outbreaks, and speculation of new governments being formed. However, there are also aid distributions from UN agencies to support civilians. The\n",
            "Row 16 label: Based on the features summarized:\n",
            "\n",
            "Likelihood of conflict escalation in the next 14 days: 0.65\n",
            "\n",
            "In explaining my assessment:\n",
            "\n",
            "- The sentiment score is quite negative (-0.9) with a high standard deviation (0\n",
            "Row 17 label: Based on the features summarized:\n",
            "\n",
            "Likelihood score: 0.6\n",
            "\n",
            "In explaining my assessment:\n",
            "- The sentiment score is neutral and cosine similarity to conflict/non-conflict sets are similar, not strongly indicating likelihood of escalation or not\n",
            "Row 18 label: Based on the features summarized, I would assess the likelihood of conflict escalation in Sudan in the next 14 days as moderately low.\n",
            "\n",
            "Likelihood score: 0.35\n",
            "\n",
            "In my assessment, several factors point towards a lower risk of significant conflict\n",
            "Row 19 label: Based on the features summarized:\n",
            "\n",
            "Likelihood score: 0.52\n",
            "\n",
            "In the past 14 days, there have been 5 articles related to Sudan with moderate event density and topic diversity. The average sentiment is slightly negative and the Goldstein Scale indicates\n",
            "Row 20 label: Based on the features summarized, I would assess the likelihood of conflict escalation in Sudan within the next 14 days as moderately high, with a likelihood score of 0.7. \n",
            "\n",
            "My assessment is based on the following factors:\n",
            "\n",
            "1.\n",
            "Row 21 label: Based on the features summarized:\n",
            "\n",
            "Likelihood of conflict escalation in the next 14 days: 0.65\n",
            "\n",
            "In explaining my assessment:\n",
            "- The sentiment score is quite negative (-0.83) with a moderately high standard deviation (0\n",
            "Row 22 label: Based on the features summarized, I would assess the likelihood of conflict escalation in Sudan in the next 14 days as moderately high, with a score of 0.7. \n",
            "\n",
            "A few reasons for this assessment:\n",
            "\n",
            "- The sentiment score is\n",
            "Row 23 label: Based on the features summarized, I would assess the likelihood of conflict escalation in Sudan in the next 14 days as moderate.\n",
            "\n",
            "Likelihood score: 0.6\n",
            "\n",
            "In support of this moderate likelihood:\n",
            "- The sentiment score is moderately negative\n",
            "Row 24 label: Based on the features summarized:\n",
            "\n",
            "Likelihood of conflict escalation in the next 14 days: 0.75\n",
            "\n",
            "Explanation:\n",
            "The features indicate a volatile situation with some signs of escalation:\n",
            "\n",
            "- Relatively high conflict similarity score (\n",
            "Row 25 label: Based on the analysis, there is a moderately high likelihood of conflict escalation in Sudan in the next 14 days.\n",
            "\n",
            "Likelihood score: 0.72\n",
            "\n",
            "Explanation:\n",
            "The sentiment score is moderately negative (-0.73) with a high\n",
            "time: 3min 33s (started: 2024-11-18 22:08:36 +00:00)\n"
          ]
        }
      ]
    },
    {
      "cell_type": "code",
      "source": [
        "claude_labels = [0.6,0.6, 0.52, 0.6, 0.35, 0.7, 0.7, 0.6, 0.6, 0.8, 0.6, 0.68, 0.75, 0.75, 0, 0.65, 0.6, 0.35, 0.52, 0.7,  0.65, 0.7, 0.6,  0.75, 0.72]"
      ],
      "metadata": {
        "colab": {
          "base_uri": "https://localhost:8080/"
        },
        "id": "ts1vUyGnTD0J",
        "outputId": "c930e9ab-fe18-4738-8cae-5688b58e9040"
      },
      "execution_count": null,
      "outputs": [
        {
          "output_type": "stream",
          "name": "stdout",
          "text": [
            "time: 711 µs (started: 2024-11-18 22:27:31 +00:00)\n"
          ]
        }
      ]
    },
    {
      "cell_type": "code",
      "source": [
        "len( data['shifted_fatalities'].fillna(data['shifted_fatalities'].mean()))"
      ],
      "metadata": {
        "colab": {
          "base_uri": "https://localhost:8080/"
        },
        "id": "1d1OG6RGZGl_",
        "outputId": "b156203c-d240-432b-ec40-a87e6685a49b"
      },
      "execution_count": null,
      "outputs": [
        {
          "output_type": "execute_result",
          "data": {
            "text/plain": [
              "25"
            ]
          },
          "metadata": {},
          "execution_count": 14
        },
        {
          "output_type": "stream",
          "name": "stdout",
          "text": [
            "time: 21.8 ms (started: 2024-11-18 22:30:23 +00:00)\n"
          ]
        }
      ]
    },
    {
      "cell_type": "code",
      "source": [
        "len(claude_labels)"
      ],
      "metadata": {
        "colab": {
          "base_uri": "https://localhost:8080/"
        },
        "id": "4ZnEWhfVZgjO",
        "outputId": "88b4a1b6-1ed0-4bd3-f822-b9516624e1cd"
      },
      "execution_count": null,
      "outputs": [
        {
          "output_type": "execute_result",
          "data": {
            "text/plain": [
              "25"
            ]
          },
          "metadata": {},
          "execution_count": 15
        },
        {
          "output_type": "stream",
          "name": "stdout",
          "text": [
            "time: 11.6 ms (started: 2024-11-18 22:30:37 +00:00)\n"
          ]
        }
      ]
    },
    {
      "cell_type": "code",
      "source": [
        "data.columns"
      ],
      "metadata": {
        "colab": {
          "base_uri": "https://localhost:8080/"
        },
        "id": "3xnIMcDoaZKh",
        "outputId": "4c759247-5dd4-4d47-b83d-708d95f28ce5"
      },
      "execution_count": null,
      "outputs": [
        {
          "output_type": "execute_result",
          "data": {
            "text/plain": [
              "Index(['Unnamed: 0', 'timeslot', 'goldsteinscale', 'goldstein_min_max',\n",
              "       'avgtone', 'events_density', 'unique_articles', 'nummentions',\n",
              "       'numsources', 'numarticles', 'cosine_similarity_positive',\n",
              "       'cosine_similarity_negative', 'avg_embeddings', 'topic', 'topic_1',\n",
              "       'dominance_score_1', 'topic_2', 'dominance_score_2', 'topic_3',\n",
              "       'dominance_score_3', 'sentiment', 'sentiment_std', 'strings',\n",
              "       'summaries', 'keywords', 'STARTDATE', 'ENDDATE',\n",
              "       'sum(ACLED_Fatalities)', 'importance', 'backlogged_importance',\n",
              "       'shifted_fatalities'],\n",
              "      dtype='object')"
            ]
          },
          "metadata": {},
          "execution_count": 23
        },
        {
          "output_type": "stream",
          "name": "stdout",
          "text": [
            "time: 7.63 ms (started: 2024-11-18 22:34:23 +00:00)\n"
          ]
        }
      ]
    },
    {
      "cell_type": "code",
      "source": [
        "import scipy.stats\n",
        "\n",
        "list1 = claude_labels\n",
        "#list2 = data['shifted_fatalities'].fillna(data['shifted_fatalities'].mean()).to_list()\n",
        "list2 = data['sum(ACLED_Fatalities)'].fillna(data['sum(ACLED_Fatalities)'].mean()).to_list()\n",
        "\n",
        "# Ensure the two lists have the same length\n",
        "min_length = min(len(list1), len(list2))\n",
        "list1 = list1[:min_length]\n",
        "list2 = list2[:min_length]\n",
        "\n",
        "# Calculate the Pearson correlation coefficient\n",
        "correlation, p_value = scipy.stats.pearsonr(list1, list2)\n",
        "\n",
        "print(f\"Pearson Correlation: {correlation:.3f}\")\n",
        "print(f\"P-value: {p_value:.3f}\")\n"
      ],
      "metadata": {
        "colab": {
          "base_uri": "https://localhost:8080/"
        },
        "id": "ac-ws8AmY6AO",
        "outputId": "4cbf973b-036c-44d3-f154-b2255745aaa3"
      },
      "execution_count": null,
      "outputs": [
        {
          "output_type": "stream",
          "name": "stdout",
          "text": [
            "Pearson Correlation: 0.082\n",
            "P-value: 0.697\n",
            "time: 5.45 ms (started: 2024-11-18 22:36:00 +00:00)\n"
          ]
        }
      ]
    },
    {
      "cell_type": "code",
      "source": [
        "len(data['shifted_fatalities'].fillna(data['shifted_fatalities'].mean()).to_list())"
      ],
      "metadata": {
        "colab": {
          "base_uri": "https://localhost:8080/"
        },
        "id": "8UrCzvExeR-2",
        "outputId": "a3207f08-31e8-4c14-d3ff-e8b9826f209f"
      },
      "execution_count": null,
      "outputs": [
        {
          "output_type": "execute_result",
          "data": {
            "text/plain": [
              "25"
            ]
          },
          "metadata": {},
          "execution_count": 32
        },
        {
          "output_type": "stream",
          "name": "stdout",
          "text": [
            "time: 8.17 ms (started: 2024-11-18 22:51:31 +00:00)\n"
          ]
        }
      ]
    },
    {
      "cell_type": "code",
      "source": [
        "import matplotlib.pyplot as plt\n",
        "import numpy as np\n",
        "\n",
        "# Example data\n",
        "x = range(len(claude_labels))\n",
        "y1 = claude_labels  # First list of Y-axis values\n",
        "y2 = gpt_probabilities   # Second list of Y-axis values\n",
        "#df = np.log10(data['shifted_fatalities'])\n",
        "df = np.log10(data['sum(ACLED_Fatalities)'])\n",
        "y3 = df.fillna(df.mean()).to_list()\n",
        "\n",
        "# Plot the two lists\n",
        "plt.plot(x, y1, label='Claude', marker='o')  # Plot the first list\n",
        "plt.plot(x, y2, label='GPT', marker='s')  # Plot the second list\n",
        "plt.plot(x, y3, label='Actual fatalities', marker='^')  # Plot the second list\n",
        "\n",
        "# Add labels, title, and legend\n",
        "plt.xlabel('Timeslots')\n",
        "plt.ylabel('Rist Assessment Score')\n",
        "plt.title('Claude vs. GPT vs. Fatalities')\n",
        "plt.legend()\n",
        "\n",
        "# Show the graph\n",
        "plt.grid(True)  # Optional: Add a grid for better readability\n",
        "plt.show()\n"
      ],
      "metadata": {
        "colab": {
          "base_uri": "https://localhost:8080/",
          "height": 489
        },
        "id": "8xRR9iXraR0T",
        "outputId": "4b22d8cd-c3be-4e5a-e0c2-e47974a856c5"
      },
      "execution_count": null,
      "outputs": [
        {
          "output_type": "display_data",
          "data": {
            "text/plain": [
              "<Figure size 640x480 with 1 Axes>"
            ],
            "image/png": "[encoded data removed]"
          },
          "metadata": {}
        },
        {
          "output_type": "stream",
          "name": "stdout",
          "text": [
            "time: 356 ms (started: 2024-11-18 22:55:33 +00:00)\n"
          ]
        }
      ]
    },
    {
      "cell_type": "code",
      "source": [
        "import scipy.stats\n",
        "\n",
        "list1 = claude_labels\n",
        "#list2 = data['shifted_fatalities'].fillna(data['shifted_fatalities'].mean()).to_list()\n",
        "list2 = gpt_probabilities\n",
        "\n",
        "# Ensure the two lists have the same length\n",
        "min_length = min(len(list1), len(list2))\n",
        "list1 = list1[:min_length]\n",
        "list2 = list2[:min_length]\n",
        "\n",
        "# Calculate the Pearson correlation coefficient\n",
        "correlation, p_value = scipy.stats.pearsonr(list1, list2)\n",
        "\n",
        "print(f\"Pearson Correlation: {correlation:.3f}\")\n",
        "print(f\"P-value: {p_value:.3f}\")\n"
      ],
      "metadata": {
        "colab": {
          "base_uri": "https://localhost:8080/"
        },
        "id": "DRqH2J-3dQPw",
        "outputId": "2d21dbb5-c6e4-4439-e862-dd7adb9e4b07"
      },
      "execution_count": null,
      "outputs": [
        {
          "output_type": "stream",
          "name": "stdout",
          "text": [
            "Pearson Correlation: 0.364\n",
            "P-value: 0.074\n",
            "time: 4.5 ms (started: 2024-11-18 22:47:00 +00:00)\n"
          ]
        }
      ]
    }
  ]
}